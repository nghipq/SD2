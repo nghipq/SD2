{
 "cells": [
  {
   "cell_type": "code",
   "execution_count": 6,
   "metadata": {},
   "outputs": [
    {
     "data": {
      "text/plain": [
       "'4.0.1'"
      ]
     },
     "execution_count": 6,
     "metadata": {},
     "output_type": "execute_result"
    }
   ],
   "source": [
    "import numpy as np\n",
    "import os\n",
    "import csv\n",
    "import pickle\n",
    "import cv2\n",
    "from urllib import parse\n",
    "import zipfile\n",
    "import pandas as pd\n",
    "import sklearn\n",
    "from sklearn.cluster import KMeans\n",
    "\n",
    "cv2.__version__"
   ]
  },
  {
   "cell_type": "code",
   "execution_count": 2,
   "metadata": {},
   "outputs": [],
   "source": [
    "vectors_file = [(\"training_set_dom_den.csv\", 0), (\"training_set_dom_trang.csv\", 1), (\"training_set_den_mang.csv\", 0), \n",
    "(\"training_set_hoai_tu_co.csv\", 1), (\"training_set_hoai_tu_gan.csv\", 0), (\"training_set_tom_bt.csv\", 2)]\n",
    "kmeans = []\n",
    "\n",
    "for File, clr in vectors_file:\n",
    "    data = pd.read_csv(f\"./vector_surf_tom/{File}\")\n",
    "    #k-means clusters with 4    \n",
    "    kmean = KMeans(n_clusters=4, random_state=0).fit(data.values)\n",
    "    kmeans.append((kmean, clr))"
   ]
  },
  {
   "cell_type": "code",
   "execution_count": 3,
   "metadata": {},
   "outputs": [],
   "source": [
    "def detect_tom_desease(img, Ten_M):\n",
    "    surf = cv2.SURF_create(5000)\n",
    "\n",
    "    with open(f\"./models/{Ten_M}.pickle\", \"rb\") as file:\n",
    "        clf = pickle.load(file)\n",
    "\n",
    "        image = cv2.imread(os.path.join(\"./img\", img))\n",
    "        image = cv2.resize(image, (256, 128))\n",
    "\n",
    "        _, des = surf.detectAndCompute(image,None)\n",
    "\n",
    "        ans = []\n",
    "\n",
    "        for i in range(len(kmeans)):\n",
    "            rs = kmeans[i][0].predict(des)\n",
    "            data = []\n",
    "            for j in range(len(des)):\n",
    "                if rs[j] == kmeans[i][1]:\n",
    "                    data.append(des[j])\n",
    "            if len(data) > 0:\n",
    "                pre = clf.predict(data)\n",
    "                dect = int(np.argmax(np.bincount(pre.astype(int))))\n",
    "                if(dect == i):\n",
    "                    ans.append(dect)\n",
    "\n",
    "        print(ans)\n",
    "        if len(ans) > 0:\n",
    "            return ans[0]\n",
    "        return -1"
   ]
  },
  {
   "cell_type": "code",
   "execution_count": 4,
   "metadata": {},
   "outputs": [
    {
     "ename": "AttributeError",
     "evalue": "module 'cv2' has no attribute 'SURF_create'",
     "output_type": "error",
     "traceback": [
      "\u001b[1;31m---------------------------------------------------------------------------\u001b[0m",
      "\u001b[1;31mAttributeError\u001b[0m                            Traceback (most recent call last)",
      "\u001b[1;32m<ipython-input-4-2eee8ee9de40>\u001b[0m in \u001b[0;36m<module>\u001b[1;34m\u001b[0m\n\u001b[1;32m----> 1\u001b[1;33m \u001b[0mdetect_tom_desease\u001b[0m\u001b[1;33m(\u001b[0m\u001b[1;34m\"DomTrang_01\"\u001b[0m\u001b[1;33m,\u001b[0m \u001b[1;34m\"Nhan_Dien_Benh_Tom1\"\u001b[0m\u001b[1;33m)\u001b[0m\u001b[1;33m\u001b[0m\u001b[1;33m\u001b[0m\u001b[0m\n\u001b[0m",
      "\u001b[1;32m<ipython-input-3-269f9f623863>\u001b[0m in \u001b[0;36mdetect_tom_desease\u001b[1;34m(img, Ten_M)\u001b[0m\n\u001b[0;32m      1\u001b[0m \u001b[1;32mdef\u001b[0m \u001b[0mdetect_tom_desease\u001b[0m\u001b[1;33m(\u001b[0m\u001b[0mimg\u001b[0m\u001b[1;33m,\u001b[0m \u001b[0mTen_M\u001b[0m\u001b[1;33m)\u001b[0m\u001b[1;33m:\u001b[0m\u001b[1;33m\u001b[0m\u001b[1;33m\u001b[0m\u001b[0m\n\u001b[1;32m----> 2\u001b[1;33m     \u001b[0msurf\u001b[0m \u001b[1;33m=\u001b[0m \u001b[0mcv2\u001b[0m\u001b[1;33m.\u001b[0m\u001b[0mSURF_create\u001b[0m\u001b[1;33m(\u001b[0m\u001b[1;36m5000\u001b[0m\u001b[1;33m)\u001b[0m\u001b[1;33m\u001b[0m\u001b[1;33m\u001b[0m\u001b[0m\n\u001b[0m\u001b[0;32m      3\u001b[0m \u001b[1;33m\u001b[0m\u001b[0m\n\u001b[0;32m      4\u001b[0m     \u001b[1;32mwith\u001b[0m \u001b[0mopen\u001b[0m\u001b[1;33m(\u001b[0m\u001b[1;34mf\"./models/{Ten_M}.pickle\"\u001b[0m\u001b[1;33m,\u001b[0m \u001b[1;34m\"rb\"\u001b[0m\u001b[1;33m)\u001b[0m \u001b[1;32mas\u001b[0m \u001b[0mfile\u001b[0m\u001b[1;33m:\u001b[0m\u001b[1;33m\u001b[0m\u001b[1;33m\u001b[0m\u001b[0m\n\u001b[0;32m      5\u001b[0m         \u001b[0mclf\u001b[0m \u001b[1;33m=\u001b[0m \u001b[0mpickle\u001b[0m\u001b[1;33m.\u001b[0m\u001b[0mload\u001b[0m\u001b[1;33m(\u001b[0m\u001b[0mfile\u001b[0m\u001b[1;33m)\u001b[0m\u001b[1;33m\u001b[0m\u001b[1;33m\u001b[0m\u001b[0m\n",
      "\u001b[1;31mAttributeError\u001b[0m: module 'cv2' has no attribute 'SURF_create'"
     ]
    }
   ],
   "source": [
    "detect_tom_desease(\"DomTrang_01\", \"Nhan_Dien_Benh_Tom1\")"
   ]
  },
  {
   "cell_type": "code",
   "execution_count": null,
   "metadata": {},
   "outputs": [],
   "source": []
  }
 ],
 "metadata": {
  "kernelspec": {
   "display_name": "Python 3",
   "language": "python",
   "name": "python3"
  },
  "language_info": {
   "codemirror_mode": {
    "name": "ipython",
    "version": 3
   },
   "file_extension": ".py",
   "mimetype": "text/x-python",
   "name": "python",
   "nbconvert_exporter": "python",
   "pygments_lexer": "ipython3",
   "version": "3.8.5"
  }
 },
 "nbformat": 4,
 "nbformat_minor": 4
}
